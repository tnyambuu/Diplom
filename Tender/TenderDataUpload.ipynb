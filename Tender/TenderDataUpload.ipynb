{
 "cells": [
  {
   "cell_type": "code",
   "execution_count": null,
   "metadata": {},
   "outputs": [
    {
     "ename": "NameError",
     "evalue": "name 'reload' is not defined",
     "output_type": "error",
     "traceback": [
      "\u001b[1;31m---------------------------------------------------------------------------\u001b[0m",
      "\u001b[1;31mNameError\u001b[0m                                 Traceback (most recent call last)",
      "Cell \u001b[1;32mIn[4], line 5\u001b[0m\n\u001b[0;32m      1\u001b[0m \u001b[38;5;66;03m# Download libraries\u001b[39;00m\n\u001b[0;32m      2\u001b[0m \u001b[38;5;66;03m# !pip install google.Colab\u001b[39;00m\n\u001b[0;32m      3\u001b[0m \u001b[38;5;66;03m# !pip install neo4j\u001b[39;00m\n\u001b[0;32m      4\u001b[0m \u001b[38;5;28;01mimport\u001b[39;00m \u001b[38;5;21;01msys\u001b[39;00m\n\u001b[1;32m----> 5\u001b[0m \u001b[43mreload\u001b[49m(sys)\n\u001b[0;32m      6\u001b[0m sys\u001b[38;5;241m.\u001b[39msetdefaultencoding(\u001b[38;5;124m\"\u001b[39m\u001b[38;5;124mutf-8\u001b[39m\u001b[38;5;124m\"\u001b[39m)\n",
      "\u001b[1;31mNameError\u001b[0m: name 'reload' is not defined"
     ]
    }
   ],
   "source": [
    "# Download libraries\n",
    "# !pip install google.Colab\n",
    "# !pip install neo4j"
   ]
  },
  {
   "cell_type": "code",
   "execution_count": null,
   "metadata": {},
   "outputs": [],
   "source": [
    "# import libraries\n",
    "import json\n",
    "from neo4j import GraphDatabase\n",
    "# from google.colab import drive"
   ]
  },
  {
   "cell_type": "code",
   "execution_count": 18,
   "metadata": {},
   "outputs": [
    {
     "name": "stdout",
     "output_type": "stream",
     "text": [
      "Current database: neo4j\n"
     ]
    }
   ],
   "source": [
    "def verify_database():\n",
    "    with driver.session() as session:\n",
    "        result = session.run(\"CALL db.info() YIELD name\")\n",
    "        for record in result:\n",
    "            print(f\"Current database: {record['name']}\")\n",
    "\n",
    "verify_database()"
   ]
  },
  {
   "cell_type": "code",
   "execution_count": null,
   "metadata": {},
   "outputs": [
    {
     "name": "stdout",
     "output_type": "stream",
     "text": [
      "Hello, Neo4j!\n",
      "Current database: tenderdb\n",
      "Connection successful!\n"
     ]
    },
    {
     "ename": "",
     "evalue": "",
     "output_type": "error",
     "traceback": [
      "\u001b[1;31mThe Kernel crashed while executing code in the current cell or a previous cell. \n",
      "\u001b[1;31mPlease review the code in the cell(s) to identify a possible cause of the failure. \n",
      "\u001b[1;31mClick <a href='https://aka.ms/vscodeJupyterKernelCrash'>here</a> for more info. \n",
      "\u001b[1;31mView Jupyter <a href='command:jupyter.viewOutput'>log</a> for further details."
     ]
    }
   ],
   "source": [
    "from neo4j import GraphDatabase\n",
    "\n",
    "uri = \"bolt://localhost:7687\"\n",
    "username = \"nyambuu\"\n",
    "password = \"12345678\"\n",
    "\n",
    "driver = GraphDatabase.driver(uri, auth=(username, password))\n",
    "\n",
    "def db_connection(db_name):\n",
    "    session = driver.session(database=db_name)\n",
    "    result = session.run(\"RETURN 'Hello, Neo4j!' AS message\")\n",
    "    for record in result:\n",
    "        print(record[\"message\"])\n",
    "\n",
    "    return session\n",
    "\n",
    "\n",
    "def verify_database(session):\n",
    "    result = session.run(\"CALL db.info() YIELD name\")\n",
    "    for record in result:\n",
    "        print(f\"Current database: {record['name']}\")\n",
    "\n",
    "try:\n",
    "    tenderDB_session = db_connection(\"tenderdb\")\n",
    "    verify_database(tenderDB_session)\n",
    "    print(\"Connection successful!\")\n",
    "except Exception as e:\n",
    "    print(\"An error occurred:\", e)\n",
    "\n",
    "query = \"CREATE (a:Захиалагч { нэр: ''}) RETURN a\"\n",
    "\n",
    "driver.execute_query(query)\n",
    "\n",
    "driver.close()\n"
   ]
  },
  {
   "cell_type": "code",
   "execution_count": 5,
   "metadata": {},
   "outputs": [
    {
     "name": "stdout",
     "output_type": "stream",
     "text": [
      "1001 {\"mission\": \"ХМОНХГ-ын албан хэрэгцээнд шаардлагатай тоног төхөөрөмж\", \"subscriber\": \"Төрийн худалдан авах ажиллагааны газар\", \"tender_selection_type\": \"Бараа\", \"tender_selection_no\": \"ЗГХЭГ/20240202026\", \"invitation\": \"ЗГХЭГ/20240202026/02/01\", \"funding_source\": \"Урсгал төсөв\", \"total_budget_cost\": \"95,000,000 ₮\", \"total_budget_cost_this_year\": \"95,000,000 ₮\", \"follow_up_procedure\": \"Харьцуулалтын арга\", \"is_online\": \"Хялбаршуулсан цахим\", \"tender_state\": \"Үр дүн гарсан\", \"table_tender_list_result\": [{\"participant_name\": \"Нанодизель трейд\", \"price\": \"94,300,000\", \"discoint\": {\"percent\": \"\", \"amount\": \"\", \"result\": \"94,300,000\"}, \"state\": \"Хасагдсан\", \"guarantee\": \" \", \"reason\": \"ТШЗ 19,2-т заасан шаардлагыг зөрүүлж ирүүлсэн нь шаардлагад нийцээгүй\", \"date_of_notification\": \"2024-04-22\"}]}\n"
     ]
    }
   ],
   "source": [
    "# read json file\n",
    "# drive.mount(\"/content/drive\")\n",
    "\n",
    "data = []\n",
    "\n",
    "with open('./TenderData/TenderData.json', encoding='utf-8') as file:\n",
    "    read_data = file.read()\n",
    "    data = read_data.split(\"\\n\")\n",
    "\n",
    "    print(len(data), data[0])"
   ]
  }
 ],
 "metadata": {
  "kernelspec": {
   "display_name": "venv",
   "language": "python",
   "name": "python3"
  },
  "language_info": {
   "codemirror_mode": {
    "name": "ipython",
    "version": 3
   },
   "file_extension": ".py",
   "mimetype": "text/x-python",
   "name": "python",
   "nbconvert_exporter": "python",
   "pygments_lexer": "ipython3",
   "version": "3.12.3"
  }
 },
 "nbformat": 4,
 "nbformat_minor": 2
}
